{
 "cells": [
  {
   "cell_type": "code",
   "execution_count": 4,
   "id": "1c8d90d3-391c-4d59-bf52-53d0964f4d28",
   "metadata": {},
   "outputs": [],
   "source": [
    "from selenium import webdriver\n",
    "from selenium.webdriver.chrome.service import Service\n",
    "from webdriver_manager.chrome import ChromeDriverManager\n",
    "from selenium.webdriver.common.by import By\n",
    "import pandas as pd\n",
    "import time\n",
    "\n",
    "servico = Service(ChromeDriverManager().install())\n",
    "navegador = webdriver.Chrome(service=servico)\n",
    "\n",
    "navegador.get(\"https://www.youtube.com/\")\n"
   ]
  },
  {
   "cell_type": "code",
   "execution_count": 26,
   "id": "fbf925ec-1a6a-49c8-b3e3-0d2e3af9b9b7",
   "metadata": {},
   "outputs": [],
   "source": [
    "musicas = ['Poesia10', 'Poesia7', 'Poesia12', 'Poesia2']\n",
    "\n",
    "for i in musicas:\n",
    "    campo_youtube = navegador.find_element(By.XPATH,'/html/body/ytd-app/div[1]/div/ytd-masthead/div[4]/div[2]/ytd-searchbox/form/div[1]/div[1]/div/div[2]/input').send_keys(i)\n",
    "    campo_youtube = navegador.find_element(By.ID, 'search-icon-legacy').click()\n",
    "    time.sleep(4.0)\n",
    "\n",
    "    campo_youtube = navegador.save_screenshot(f'{i}.png')\n",
    "    campo_youtube = navegador.find_element(By.XPATH,'/html/body/ytd-app/div[1]/div/ytd-masthead/div[4]/div[2]/ytd-searchbox/form/div[1]/div[1]/div/div[2]/input').clear()"
   ]
  },
  {
   "cell_type": "code",
   "execution_count": null,
   "id": "05f619f2-ed38-49fa-94bc-ad8e35b0a436",
   "metadata": {},
   "outputs": [],
   "source": []
  }
 ],
 "metadata": {
  "kernelspec": {
   "display_name": "Python 3 (ipykernel)",
   "language": "python",
   "name": "python3"
  },
  "language_info": {
   "codemirror_mode": {
    "name": "ipython",
    "version": 3
   },
   "file_extension": ".py",
   "mimetype": "text/x-python",
   "name": "python",
   "nbconvert_exporter": "python",
   "pygments_lexer": "ipython3",
   "version": "3.12.4"
  }
 },
 "nbformat": 4,
 "nbformat_minor": 5
}
