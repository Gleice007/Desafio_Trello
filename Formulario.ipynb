{
 "cells": [
  {
   "cell_type": "code",
   "execution_count": 329,
   "id": "391fbff3-8378-44fb-854b-c4195bb2ccea",
   "metadata": {},
   "outputs": [],
   "source": [
    "from selenium import webdriver\n",
    "from selenium.webdriver.chrome.service import Service\n",
    "from webdriver_manager.chrome import ChromeDriverManager\n",
    "\n",
    "servico = Service(ChromeDriverManager().install())\n",
    "navegador = webdriver.Chrome(service=servico)\n",
    "\n",
    "navegador.get('https://demo.automationtesting.in/Register.html')"
   ]
  },
  {
   "cell_type": "code",
   "execution_count": 330,
   "id": "42ccb51b-0ec8-4b2b-820d-9548265d25ae",
   "metadata": {},
   "outputs": [],
   "source": [
    "from selenium.webdriver.common.by import By\n",
    "campo_nome = navegador.find_element(By.XPATH, '//*[@id=\"basicBootstrapForm\"]/div[1]/div[1]/input')\n",
    "campo_nome.send_keys(\"Gleiciele\")\n",
    "\n",
    "campo_sobrenome = navegador.find_element(By. XPATH, '//*[@id=\"basicBootstrapForm\"]/div[1]/div[2]/input')\n",
    "campo_sobrenome.send_keys('Rodrigues')\n",
    "\n",
    "campo_comentario = navegador.find_element(By.XPATH, '//*[@id=\"basicBootstrapForm\"]/div[2]/div/textarea')\n",
    "campo_comentario.send_keys('gosto de '' musicas, ' ' filmes, ' ' viajar ')\n",
    "\n",
    "campo_email = navegador.find_element(By.XPATH, '//*[@id=\"eid\"]/input')\n",
    "campo_email.send_keys('gleicielerodrigues57@gmail.com')\n",
    "                            "
   ]
  },
  {
   "cell_type": "code",
   "execution_count": 333,
   "id": "9111e35b-ecb2-4a30-bbc8-204e1d3f8a0d",
   "metadata": {},
   "outputs": [],
   "source": [
    "campo_telefone = navegador.find_element(By.XPATH, '//*[@id=\"basicBootstrapForm\"]/div[4]/div/input')\n",
    "campo_telefone.send_keys('(81) 999084087')\n"
   ]
  },
  {
   "cell_type": "code",
   "execution_count": 335,
   "id": "7dae36ce-bb8a-436e-9263-8e7a40a31020",
   "metadata": {},
   "outputs": [],
   "source": [
    "campo_genero = navegador.find_element(By.XPATH, '//*[@id=\"basicBootstrapForm\"]/div[5]/div/label[2]/input')\n",
    "campo_genero.click()"
   ]
  },
  {
   "cell_type": "code",
   "execution_count": 337,
   "id": "f453aea6-eb00-4008-8617-3a1cdc0d284f",
   "metadata": {},
   "outputs": [
    {
     "ename": "AttributeError",
     "evalue": "'NoneType' object has no attribute 'click'",
     "output_type": "error",
     "traceback": [
      "\u001b[1;31m---------------------------------------------------------------------------\u001b[0m",
      "\u001b[1;31mAttributeError\u001b[0m                            Traceback (most recent call last)",
      "Cell \u001b[1;32mIn[337], line 2\u001b[0m\n\u001b[0;32m      1\u001b[0m campo_Hobbies \u001b[38;5;241m=\u001b[39m navegador\u001b[38;5;241m.\u001b[39mfind_element(By\u001b[38;5;241m.\u001b[39mXPATH, \u001b[38;5;124m'\u001b[39m\u001b[38;5;124m//*[@id=\u001b[39m\u001b[38;5;124m\"\u001b[39m\u001b[38;5;124mcheckbox2\u001b[39m\u001b[38;5;124m\"\u001b[39m\u001b[38;5;124m]\u001b[39m\u001b[38;5;124m'\u001b[39m)\u001b[38;5;241m.\u001b[39mclick()\n\u001b[1;32m----> 2\u001b[0m campo_Hobbies\u001b[38;5;241m.\u001b[39mclick()\n",
      "\u001b[1;31mAttributeError\u001b[0m: 'NoneType' object has no attribute 'click'"
     ]
    }
   ],
   "source": [
    "campo_Hobbies = navegador.find_element(By.XPATH, '//*[@id=\"checkbox2\"]').click()\n",
    "campo_Hobbies.click()"
   ]
  },
  {
   "cell_type": "code",
   "execution_count": 339,
   "id": "21c4e1b3-d96e-466b-b136-72212fb8be2e",
   "metadata": {},
   "outputs": [],
   "source": [
    "campo_linguas = navegador.find_element(By.XPATH, '//*[@id=\"msdd\"]').click()\n",
    "campo_linguas = navegador.find_element(By.XPATH, '//*[@id=\"basicBootstrapForm\"]/div[7]/div/multi-select/div[2]/ul/li[29]').click()"
   ]
  },
  {
   "cell_type": "code",
   "execution_count": 323,
   "id": "1436dcaf-e97f-4efb-963c-f4193373e881",
   "metadata": {},
   "outputs": [],
   "source": [
    "campo_Habilidades = navegador.find_element(By.XPATH, '//*[@id=\"basicBootstrapForm\"]/div[8]/div').click()\n",
    "campo_Habilidades = navegador.find_element(By.XPATH, '//*[@id=\"Skills\"]').send_keys('programação')"
   ]
  },
  {
   "cell_type": "code",
   "execution_count": 298,
   "id": "a4174aa8-e9b5-45ac-af0f-d91264d0103b",
   "metadata": {},
   "outputs": [],
   "source": [
    "campo_País = navegador.find_element(By.XPATH, '//*[@id=\"basicBootstrapForm\"]/div[9]/div').click()"
   ]
  },
  {
   "cell_type": "code",
   "execution_count": 299,
   "id": "b09e0099-1cf5-406f-a561-d8cb85687305",
   "metadata": {},
   "outputs": [],
   "source": [
    "campo_País = navegador.find_element(By.XPATH, '//*[@id=\"basicBootstrapForm\"]/div[10]/div/span/span[1]/span').click()\n",
    "campo_País = navegador.find_element(By.XPATH, '//*[@id=\"select2-country-results\"]/li[3]').click()"
   ]
  },
  {
   "cell_type": "code",
   "execution_count": 287,
   "id": "b422efc9-4cfc-411f-b265-0ed7623d6e1b",
   "metadata": {},
   "outputs": [],
   "source": [
    "campo_idade = navegador.find_element(By.XPATH, '//*[@id=\"basicBootstrapForm\"]/div[11]/div[1]').click()\n",
    "campo_idade = navegador.find_element(By.XPATH, '//*[@id=\"yearbox\"]').send_keys('1997')\n",
    "\n",
    "campo_idade = navegador.find_element(By.XPATH, '//*[@id=\"basicBootstrapForm\"]/div[11]/div[2]').click()\n",
    "campo_idade = navegador.find_element(By.XPATH, '//*[@id=\"basicBootstrapForm\"]/div[11]/div[2]/select').send_keys('julho')\n",
    "\n",
    "campo_idade = navegador.find_element(By.XPATH, '//*[@id=\"basicBootstrapForm\"]/div[11]/div[3]').click()\n",
    "campo_idade = navegador.find_element(By.XPATH, '//*[@id=\"daybox\"]').send_keys(31)"
   ]
  },
  {
   "cell_type": "code",
   "execution_count": 289,
   "id": "3fe59761-cd43-410e-a2dd-55517824cfd1",
   "metadata": {},
   "outputs": [],
   "source": [
    "campo_senha = navegador.find_element(By.XPATH, '//*[@id=\"basicBootstrapForm\"]/div[12]/div').click()\n",
    "campo_senha = navegador.find_element(By.XPATH,  '//*[@id=\"firstpassword\"]').send_keys(856479)\n",
    "\n",
    "campo_senha = navegador.find_element(By.XPATH, '//*[@id=\"basicBootstrapForm\"]/div[13]/div').click()\n",
    "campo_senha = navegador.find_element(By.XPATH, '//*[@id=\"secondpassword\"]').send_keys(856479)"
   ]
  },
  {
   "cell_type": "code",
   "execution_count": 293,
   "id": "8502a43a-4692-4fe9-a810-864e0662dac4",
   "metadata": {},
   "outputs": [],
   "source": [
    "campo_envio = navegador.find_element(By.XPATH, '//*[@id=\"submitbtn\"]').click()"
   ]
  },
  {
   "cell_type": "code",
   "execution_count": null,
   "id": "dcda812f-18e5-497d-8594-05ff08c186e9",
   "metadata": {},
   "outputs": [],
   "source": []
  }
 ],
 "metadata": {
  "kernelspec": {
   "display_name": "Python 3 (ipykernel)",
   "language": "python",
   "name": "python3"
  },
  "language_info": {
   "codemirror_mode": {
    "name": "ipython",
    "version": 3
   },
   "file_extension": ".py",
   "mimetype": "text/x-python",
   "name": "python",
   "nbconvert_exporter": "python",
   "pygments_lexer": "ipython3",
   "version": "3.12.4"
  }
 },
 "nbformat": 4,
 "nbformat_minor": 5
}
